{
  "nbformat": 4,
  "nbformat_minor": 0,
  "metadata": {
    "colab": {
      "provenance": []
    },
    "kernelspec": {
      "name": "python3",
      "display_name": "Python 3"
    },
    "language_info": {
      "name": "python"
    }
  },
  "cells": [
    {
      "cell_type": "code",
      "execution_count": null,
      "metadata": {
        "colab": {
          "base_uri": "https://localhost:8080/"
        },
        "collapsed": true,
        "id": "AfyVTagvgE38",
        "outputId": "3f1881a8-49e7-49b1-8eba-ff519f7907d4"
      },
      "outputs": [
        {
          "output_type": "stream",
          "name": "stdout",
          "text": [
            "Collecting asyncpraw\n",
            "  Downloading asyncpraw-7.8.1-py3-none-any.whl.metadata (9.0 kB)\n",
            "Requirement already satisfied: aiofiles in /usr/local/lib/python3.12/dist-packages (from asyncpraw) (24.1.0)\n",
            "Requirement already satisfied: aiohttp<4 in /usr/local/lib/python3.12/dist-packages (from asyncpraw) (3.12.15)\n",
            "Collecting aiosqlite<=0.17.0 (from asyncpraw)\n",
            "  Downloading aiosqlite-0.17.0-py3-none-any.whl.metadata (4.1 kB)\n",
            "Collecting asyncprawcore<3,>=2.4 (from asyncpraw)\n",
            "  Downloading asyncprawcore-2.4.0-py3-none-any.whl.metadata (5.5 kB)\n",
            "Collecting update_checker>=0.18 (from asyncpraw)\n",
            "  Downloading update_checker-0.18.0-py3-none-any.whl.metadata (2.3 kB)\n",
            "Requirement already satisfied: aiohappyeyeballs>=2.5.0 in /usr/local/lib/python3.12/dist-packages (from aiohttp<4->asyncpraw) (2.6.1)\n",
            "Requirement already satisfied: aiosignal>=1.4.0 in /usr/local/lib/python3.12/dist-packages (from aiohttp<4->asyncpraw) (1.4.0)\n",
            "Requirement already satisfied: attrs>=17.3.0 in /usr/local/lib/python3.12/dist-packages (from aiohttp<4->asyncpraw) (25.3.0)\n",
            "Requirement already satisfied: frozenlist>=1.1.1 in /usr/local/lib/python3.12/dist-packages (from aiohttp<4->asyncpraw) (1.7.0)\n",
            "Requirement already satisfied: multidict<7.0,>=4.5 in /usr/local/lib/python3.12/dist-packages (from aiohttp<4->asyncpraw) (6.6.4)\n",
            "Requirement already satisfied: propcache>=0.2.0 in /usr/local/lib/python3.12/dist-packages (from aiohttp<4->asyncpraw) (0.3.2)\n",
            "Requirement already satisfied: yarl<2.0,>=1.17.0 in /usr/local/lib/python3.12/dist-packages (from aiohttp<4->asyncpraw) (1.20.1)\n",
            "Requirement already satisfied: typing_extensions>=3.7.2 in /usr/local/lib/python3.12/dist-packages (from aiosqlite<=0.17.0->asyncpraw) (4.15.0)\n",
            "Requirement already satisfied: requests>=2.3.0 in /usr/local/lib/python3.12/dist-packages (from update_checker>=0.18->asyncpraw) (2.32.4)\n",
            "Requirement already satisfied: charset_normalizer<4,>=2 in /usr/local/lib/python3.12/dist-packages (from requests>=2.3.0->update_checker>=0.18->asyncpraw) (3.4.3)\n",
            "Requirement already satisfied: idna<4,>=2.5 in /usr/local/lib/python3.12/dist-packages (from requests>=2.3.0->update_checker>=0.18->asyncpraw) (3.10)\n",
            "Requirement already satisfied: urllib3<3,>=1.21.1 in /usr/local/lib/python3.12/dist-packages (from requests>=2.3.0->update_checker>=0.18->asyncpraw) (2.5.0)\n",
            "Requirement already satisfied: certifi>=2017.4.17 in /usr/local/lib/python3.12/dist-packages (from requests>=2.3.0->update_checker>=0.18->asyncpraw) (2025.8.3)\n",
            "Downloading asyncpraw-7.8.1-py3-none-any.whl (196 kB)\n",
            "\u001b[2K   \u001b[90m━━━━━━━━━━━━━━━━━━━━━━━━━━━━━━━━━━━━━━━━\u001b[0m \u001b[32m196.4/196.4 kB\u001b[0m \u001b[31m7.1 MB/s\u001b[0m eta \u001b[36m0:00:00\u001b[0m\n",
            "\u001b[?25hDownloading aiosqlite-0.17.0-py3-none-any.whl (15 kB)\n",
            "Downloading asyncprawcore-2.4.0-py3-none-any.whl (19 kB)\n",
            "Downloading update_checker-0.18.0-py3-none-any.whl (7.0 kB)\n",
            "Installing collected packages: aiosqlite, update_checker, asyncprawcore, asyncpraw\n",
            "Successfully installed aiosqlite-0.17.0 asyncpraw-7.8.1 asyncprawcore-2.4.0 update_checker-0.18.0\n"
          ]
        }
      ],
      "source": [
        "\n",
        "!pip install asyncpraw\n",
        "\n",
        "import nest_asyncio\n",
        "import asyncio\n",
        "import asyncpraw\n",
        "\n",
        "nest_asyncio.apply()\n",
        "\n",
        "client_id = 'LETS NOT'\n",
        "client_secret = 'LETS NOT'\n",
        "user_agent    = 'CommentScraper by Tomodovodoo'"
      ]
    },
    {
      "cell_type": "code",
      "source": [
        "\n",
        "async def main():\n",
        "    client_id = 'LETS NOT'\n",
        "    client_secret = 'LETS NOT'\n",
        "    user_agent    = 'CommentScraper by Tomodovodoo'\n",
        "\n",
        "    async with asyncpraw.Reddit(\n",
        "        client_id=client_id,\n",
        "        client_secret=client_secret,\n",
        "        user_agent=user_agent\n",
        "    ) as reddit:\n",
        "        found = set()\n",
        "        async for sub in reddit.subreddits.search(\"Text\", limit=None):\n",
        "            if \"Text\" in sub.display_name.lower():\n",
        "                found.add(sub.display_name)\n",
        "        subs = sorted(found)\n",
        "\n",
        "        print(f\"Found {len(subs)} subreddits with 'Text':\")\n",
        "        for s in subs:\n",
        "            print(f\"- {s}\")\n",
        "\n",
        "asyncio.get_event_loop().run_until_complete(main())"
      ],
      "metadata": {
        "colab": {
          "base_uri": "https://localhost:8080/"
        },
        "id": "Pod8wlgdgI0h",
        "outputId": "77214b13-7984-4364-f8ce-2f89db378da9"
      },
      "execution_count": null,
      "outputs": [
        {
          "output_type": "stream",
          "name": "stdout",
          "text": [
            "Found 0 subreddits with 'Text':\n"
          ]
        }
      ]
    }
  ]
}
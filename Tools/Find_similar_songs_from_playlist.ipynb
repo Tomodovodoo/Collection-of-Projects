{
  "nbformat": 4,
  "nbformat_minor": 0,
  "metadata": {
    "colab": {
      "private_outputs": true,
      "provenance": []
    },
    "kernelspec": {
      "name": "python3",
      "display_name": "Python 3"
    },
    "language_info": {
      "name": "python"
    }
  },
  "cells": [
    {
      "cell_type": "code",
      "source": [
        "!pip install requests bs4"
      ],
      "metadata": {
        "id": "49ESIBpTLrsS"
      },
      "execution_count": null,
      "outputs": []
    },
    {
      "cell_type": "code",
      "execution_count": null,
      "metadata": {
        "id": "QZA0I7YdLo2p"
      },
      "outputs": [],
      "source": [
        "import requests\n",
        "from bs4 import BeautifulSoup\n",
        "import time\n",
        "\n",
        "def search_glitch_pop_songs():\n",
        "    playlist = [\n",
        "        \"Defqwop - Heart Afire (ft. Strix)\",\n",
        "        \"Defqwop - Black & White (ft. Strix)\",\n",
        "        \"Lemaitre - Closer (feat. Jennie A.)\",\n",
        "        \"TheFatRat - Monkeys\",\n",
        "        \"TheFatRat & Cecilia Gault - Violet Sky\",\n",
        "        \"TheFatRat & AleXa - Rule the World\",\n",
        "        \"Everen Maxwell & Sasha Waters - Enchanted\",\n",
        "        \"Dalar Coin - Tokens\",\n",
        "        \"Phaera - Again\",\n",
        "        \"TheFatRat & Maisy Kay - The Storm\",\n",
        "        \"Zukira - Outside World\",\n",
        "        \"Jack Shore - Wanna Fly\",\n",
        "        \"TheFatRat & Anjulie - Close To The Sun\",\n",
        "        \"Viilo - Miss You Need You\",\n",
        "        \"Lumian - Never Let Me Go\",\n",
        "        \"Waysons - Running\",\n",
        "        \"Tom Wilson - Be Myself\",\n",
        "        \"Julius Dreisig - Aurora\",\n",
        "        \"Marie Davidson & L’Œil Nu - Renegade Breakdown\",\n",
        "        \"Giraffage - Slowly (feat. Matosic)\",\n",
        "        \"Aluna, Diplo & Durante - Forget About Me\",\n",
        "        \"Oliver Tree & Robin Schulz - Miss You\",\n",
        "        \"Aluna - Envious\",\n",
        "        \"Tungevaag - In My Zone\",\n",
        "        \"Kristina Sky & Danny Stubbs featuring Evan Henzi - Rollercoaster\",\n",
        "        \"Virtual Riot - Energy Drink\",\n",
        "        \"Televisor - Old Skool\",\n",
        "        \"Valence - Infinite\"\n",
        "    ]\n",
        "\n",
        "    song_details = []\n",
        "\n",
        "    for song in playlist:\n",
        "\n",
        "        search_query = f\"https://tunebat.com/Search?q={song}\"\n",
        "        response = requests.get(search_query)\n",
        "        soup = BeautifulSoup(response.content, 'html.parser')\n",
        "        print(soup)\n",
        "        bpm_element = soup.find('span', class_='bpm')\n",
        "        genre_element = soup.find('span', class_='genre')\n",
        "        song_details.append({\n",
        "            \"song\": song,\n",
        "            \"bpm\": bpm_element.text.strip() if bpm_element else \"N/A\",\n",
        "            \"genre\": genre_element.text.strip() if genre_element else \"N/A\"\n",
        "        })\n",
        "\n",
        "        print(f\"Processed: {song}\")\n",
        "        time.sleep(1)\n",
        "\n",
        "    return song_details\n",
        "\n",
        "glitch_pop_songs = search_glitch_pop_songs()\n",
        "for song in glitch_pop_songs:\n",
        "    print(f\"Song: {song['song']}, BPM: {song['bpm']}, Genre: {song['genre']}\")\n"
      ]
    }
  ]
}
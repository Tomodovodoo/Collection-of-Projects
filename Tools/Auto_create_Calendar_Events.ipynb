{
  "nbformat": 4,
  "nbformat_minor": 0,
  "metadata": {
    "colab": {
      "provenance": []
    },
    "kernelspec": {
      "name": "python3",
      "display_name": "Python 3"
    },
    "language_info": {
      "name": "python"
    }
  },
  "cells": [
    {
      "cell_type": "code",
      "source": [
        "!pip install icalendar"
      ],
      "metadata": {
        "colab": {
          "base_uri": "https://localhost:8080/",
          "height": 369
        },
        "id": "fji59czjgt5Q",
        "outputId": "074683a2-281f-4e48-99d8-63b5b7e8aa0d"
      },
      "execution_count": null,
      "outputs": [
        {
          "output_type": "stream",
          "name": "stdout",
          "text": [
            "Requirement already satisfied: icalendar in /usr/local/lib/python3.10/dist-packages (6.1.0)\n",
            "Requirement already satisfied: python-dateutil in /usr/local/lib/python3.10/dist-packages (from icalendar) (2.8.2)\n",
            "Requirement already satisfied: tzdata in /usr/local/lib/python3.10/dist-packages (from icalendar) (2024.2)\n",
            "Requirement already satisfied: six>=1.5 in /usr/local/lib/python3.10/dist-packages (from python-dateutil->icalendar) (1.17.0)\n"
          ]
        },
        {
          "output_type": "error",
          "ename": "NameError",
          "evalue": "name 'pytz' is not defined",
          "traceback": [
            "\u001b[0;31m---------------------------------------------------------------------------\u001b[0m",
            "\u001b[0;31mNameError\u001b[0m                                 Traceback (most recent call last)",
            "\u001b[0;32m<ipython-input-3-7e8843bc645c>\u001b[0m in \u001b[0;36m<cell line: 3>\u001b[0;34m()\u001b[0m\n\u001b[1;32m      1\u001b[0m \u001b[0;31m# Install required libraries\u001b[0m\u001b[0;34m\u001b[0m\u001b[0;34m\u001b[0m\u001b[0m\n\u001b[1;32m      2\u001b[0m \u001b[0mget_ipython\u001b[0m\u001b[0;34m(\u001b[0m\u001b[0;34m)\u001b[0m\u001b[0;34m.\u001b[0m\u001b[0msystem\u001b[0m\u001b[0;34m(\u001b[0m\u001b[0;34m'pip install icalendar'\u001b[0m\u001b[0;34m)\u001b[0m\u001b[0;34m\u001b[0m\u001b[0;34m\u001b[0m\u001b[0m\n\u001b[0;32m----> 3\u001b[0;31m \u001b[0mpytz\u001b[0m\u001b[0;34m\u001b[0m\u001b[0;34m\u001b[0m\u001b[0m\n\u001b[0m",
            "\u001b[0;31mNameError\u001b[0m: name 'pytz' is not defined"
          ]
        }
      ]
    },
    {
      "cell_type": "code",
      "execution_count": null,
      "metadata": {
        "colab": {
          "base_uri": "https://localhost:8080/",
          "height": 17
        },
        "id": "PzD3NisQgVMi",
        "outputId": "c5a0bcbd-14bc-4466-889a-8feece223ca5"
      },
      "outputs": [
        {
          "output_type": "display_data",
          "data": {
            "text/plain": [
              "<IPython.core.display.Javascript object>"
            ],
            "application/javascript": [
              "\n",
              "    async function download(id, filename, size) {\n",
              "      if (!google.colab.kernel.accessAllowed) {\n",
              "        return;\n",
              "      }\n",
              "      const div = document.createElement('div');\n",
              "      const label = document.createElement('label');\n",
              "      label.textContent = `Downloading \"${filename}\": `;\n",
              "      div.appendChild(label);\n",
              "      const progress = document.createElement('progress');\n",
              "      progress.max = size;\n",
              "      div.appendChild(progress);\n",
              "      document.body.appendChild(div);\n",
              "\n",
              "      const buffers = [];\n",
              "      let downloaded = 0;\n",
              "\n",
              "      const channel = await google.colab.kernel.comms.open(id);\n",
              "      // Send a message to notify the kernel that we're ready.\n",
              "      channel.send({})\n",
              "\n",
              "      for await (const message of channel.messages) {\n",
              "        // Send a message to notify the kernel that we're ready.\n",
              "        channel.send({})\n",
              "        if (message.buffers) {\n",
              "          for (const buffer of message.buffers) {\n",
              "            buffers.push(buffer);\n",
              "            downloaded += buffer.byteLength;\n",
              "            progress.value = downloaded;\n",
              "          }\n",
              "        }\n",
              "      }\n",
              "      const blob = new Blob(buffers, {type: 'application/binary'});\n",
              "      const a = document.createElement('a');\n",
              "      a.href = window.URL.createObjectURL(blob);\n",
              "      a.download = filename;\n",
              "      div.appendChild(a);\n",
              "      a.click();\n",
              "      div.remove();\n",
              "    }\n",
              "  "
            ]
          },
          "metadata": {}
        },
        {
          "output_type": "display_data",
          "data": {
            "text/plain": [
              "<IPython.core.display.Javascript object>"
            ],
            "application/javascript": [
              "download(\"download_499cb0da-4434-4819-bafb-f0528a4f967a\", \"schedule.ics\", 4179)"
            ]
          },
          "metadata": {}
        }
      ],
      "source": [
        "from datetime import datetime, timedelta\n",
        "from icalendar import Calendar, Event\n",
        "import pytz\n",
        "\n",
        "cal = Calendar()\n",
        "\n",
        "timezone = pytz.timezone(\"Europe/Amsterdam\")\n",
        "\n",
        "schedule = [\n",
        "    [\"Carbohydrates Prep\", \"2025-01-12 09:30\", 3],\n",
        "    [\"Orientatie op Onderwijs Draft\", \"2025-01-12 13:30\", 3],\n",
        "    [\"Physical Chemistry Formulas\", \"2025-01-12 17:00\", 2.5],\n",
        "    [\"Carbohydrates Practice\", \"2025-01-13 09:00\", 3.5],\n",
        "    [\"Molecular Biology HW4\", \"2025-01-13 13:30\", 3.5],\n",
        "    [\"Volleyball Training\", \"2025-01-13 18:40\", 2.5],\n",
        "    [\"Physical Chemistry Problems\", \"2025-01-14 09:00\", 3.5],\n",
        "    [\"Orientatie on Onderwijs Work\", \"2025-01-14 13:30\", 3.5],\n",
        "    [\"Molecular Biophysics Overview\", \"2025-01-14 17:30\", 2.5],\n",
        "    [\"Molecular Biology HW4 Finalize\", \"2025-01-15 09:00\", 3.5],\n",
        "    [\"Soft Molecular Materials Overview\", \"2025-01-15 13:30\", 3.5],\n",
        "    [\"Volleyball Training\", \"2025-01-15 18:40\", 2.5],\n",
        "    [\"Orientatie on Onderwijs Finalize\", \"2025-01-16 09:00\", 2.5],\n",
        "    [\"Carbohydrates Review\", \"2025-01-16 13:30\", 3.5],\n",
        "    [\"Physical Chemistry Problems\", \"2025-01-16 17:30\", 2.5],\n",
        "    [\"Molecular Biology HW5 Start\", \"2025-01-17 09:00\", 3.5],\n",
        "    [\"Carbohydrates Final Review\", \"2025-01-17 13:30\", 3.5],\n",
        "    [\"Molecular Biophysics Problems\", \"2025-01-17 17:30\", 2.5],\n",
        "    [\"Physical Chemistry Past Exams\", \"2025-01-18 09:00\", 3.5],\n",
        "    [\"Organic Chemistry Overview\", \"2025-01-18 13:30\", 3.5],\n",
        "    [\"Soft Molecular Materials Summaries\", \"2025-01-18 17:30\", 2.5],\n",
        "    [\"Carbohydrates Exam Prep\", \"2025-01-19 09:00\", 3.5],\n",
        "    [\"Molecular Biology HW5 Finalize\", \"2025-01-19 13:30\", 3.5],\n",
        "]\n",
        "\n",
        "for event_data in schedule:\n",
        "    title, start_str, duration = event_data\n",
        "    start = timezone.localize(datetime.strptime(start_str, \"%Y-%m-%d %H:%M\"))\n",
        "    end = start + timedelta(hours=duration)\n",
        "\n",
        "    event = Event()\n",
        "    event.add(\"summary\", title)\n",
        "    event.add(\"dtstart\", start)\n",
        "    event.add(\"dtend\", end)\n",
        "    event.add(\"dtstamp\", datetime.now())\n",
        "\n",
        "    cal.add_component(event)\n",
        "\n",
        "ics_filename = \"schedule.ics\"\n",
        "with open(ics_filename, \"wb\") as f:\n",
        "    f.write(cal.to_ical())\n",
        "\n",
        "from google.colab import files\n",
        "files.download(ics_filename)"
      ]
    }
  ]
}
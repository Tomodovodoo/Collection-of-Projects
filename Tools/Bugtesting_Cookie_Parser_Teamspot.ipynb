{
  "nbformat": 4,
  "nbformat_minor": 0,
  "metadata": {
    "colab": {
      "provenance": []
    },
    "kernelspec": {
      "name": "python3",
      "display_name": "Python 3"
    },
    "language_info": {
      "name": "python"
    }
  },
  "cells": [
    {
      "cell_type": "code",
      "execution_count": null,
      "metadata": {
        "id": "qUJavZ1YoYEs"
      },
      "outputs": [],
      "source": [
        "import requests\n",
        "\n",
        "url = \"https://test-teamspot-f1.azurewebsites.net/Message/\"\n",
        "\n",
        "headers = {\n",
        "    \"Accept\": \"text/html,application/xhtml+xml,application/xml;q=0.9,image/avif,image/webp,image/apng,*/*;q=0.8,application/signed-exchange;v=b3;q=0.7\",\n",
        "    \"Accept-Encoding\": \"gzip, deflate, br\",\n",
        "    \"Accept-Language\": \"en-US,en;q=0.9\",\n",
        "    \"Connection\": \"keep-alive\",\n",
        "    \"Cookie\": \"Teamspot.TOS.Agreement.201=Teamspot.TOS.Agreement.201=201; community=community=cbe4d009-25ad-4ab5-b61f-e702f4ad68c5; ARRAffinity=5c3b3eeb308eb53980891741456831fd17b082f53c89f03c9c9dcc2d905209a3; ARRAffinitySameSite=5c3b3eeb308eb53980891741456831fd17b082f53c89f03c9c9dcc2d905209a3; page=page=; ASP.NET_SessionId=d2qjwcjjv1xtmubrf51lmmfp; teamspot.LastMaintenanceWindowCheck=teamspot.LastMaintenanceWindowCheck=<?xml version=\\\"1.0\\\" encoding=\\\"utf-16\\\"?>%0d%0a<dateTime>2023-11-08T15:28:45.0722109+00:00</dateTime>; teamspot.enableSessionKey=teamspot.enableSessionKey=1; teamspot.enableSessionKey2=teamspot.enableSessionKey2=1; teamspot.user=teamspot.user=b19d05b4-4c8e-41c2-9b04-fe1aaf7d2491; teamspot.sessionKey=teamspot.sessionKey=32ab8f78-baf0-4fd5-b62b-766dd929e51d; .ASPXAUTH=8E8EF95122AF643380481C45AD3DFFDD4DD540838C4797FDB6D69CBEE99D52A355A73EACB1596C4F8E79300B348D2CC66A8A150C59457F91C156FFC52064AA41FABDDD1BE55CAF4DA08B1AE2033A30EA1FDBCF6B75C637828CA9A215368CD2B74F12AD74AEC04FF3E325093352DACD292ED3C811577A47BC88FCD82AA3682447; team=team=f117df50-5c7d-4e71-bd1e-eed94f3158d9\",\n",
        "    \"Host\": \"test-teamspot-f1.azurewebsites.net\",\n",
        "    \"Referer\": \"https://test-teamspot-f1.azurewebsites.net/Message/\",\n",
        "    \"Sec-Ch-Ua\": \"\\\"Chromium\\\";v=\\\"118\\\", \\\"Google Chrome\\\";v=\\\"118\\\", \\\"Not=A?Brand\\\";v=\\\"99\\\"\",\n",
        "    \"Sec-Ch-Ua-Mobile\": \"?0\",\n",
        "    \"Sec-Ch-Ua-Platform\": \"\\\"Windows\\\"\",\n",
        "    \"Sec-Fetch-Dest\": \"document\",\n",
        "    \"Sec-Fetch-Mode\": \"navigate\",\n",
        "    \"Sec-Fetch-Site\": \"same-origin\",\n",
        "    \"Sec-Fetch-User\": \"?1\",\n",
        "    \"Upgrade-Insecure-Requests\": \"1\",\n",
        "    \"User-Agent\": \"Mozilla/5.0 (Windows NT 10.0; Win64; x64) AppleWebKit/537.36 (KHTML, like Gecko) Chrome/118.0.0.0 Safari/537.36\",\n",
        "}\n",
        "\n",
        "response = requests.get(url, headers=headers)\n",
        "\n",
        "print(\"Status Code:\", response.status_code)\n",
        "print(\"Response Content:\", response.text)\n"
      ]
    },
    {
      "cell_type": "code",
      "source": [
        "def cookies_to_javascript(cookies, custom_cookie_name, custom_cookie_value):\n",
        "    cookie_pairs = cookies.split(\"; \")\n",
        "    javascript_cookies = []\n",
        "    for cookie_pair in cookie_pairs:\n",
        "        name_value = cookie_pair.split(\"=\", 1)\n",
        "        name = name_value[0]\n",
        "        value = name_value[1] if len(name_value) > 1 else \"\"\n",
        "        javascript_cookies.append(f'document.cookie = \"{name}={value}; expires=Fri, 31 Dec 9999 23:59:59 GMT\";')\n",
        "    javascript_code = \"\\n\".join(javascript_cookies)\n",
        "\n",
        "    return javascript_code"
      ],
      "metadata": {
        "id": "W-U8pNwGQy5y"
      },
      "execution_count": null,
      "outputs": []
    },
    {
      "cell_type": "code",
      "source": [
        "input_cookies = \"\"\"Teamspot.TOS.Agreement.201=Teamspot.TOS.Agreement.201=201; community=community=cbe4d009-25ad-4ab5-b61f-e702f4ad68c5; Teamspot.PublicCookies.Allow.103=Teamspot.PublicCookies.Allow.103=103; page=page=; teamspot.enableSessionKey=teamspot.enableSessionKey=1; teamspot.enableSessionKey2=teamspot.enableSessionKey2=1; teamspot.user=teamspot.user=b19d05b4-4c8e-41c2-9b04-fe1aaf7d2491; teamspot.sessionKey=teamspot.sessionKey=32ab8f78-baf0-4fd5-b62b-766dd929e51d; .ASPXAUTH=8E8EF95122AF643380481C45AD3DFFDD4DD540838C4797FDB6D69CBEE99D52A355A73EACB1596C4F8E79300B348D2CC66A8A150C59457F91C156FFC52064AA41FABDDD1BE55CAF4DA08B1AE2033A30EA1FDBCF6B75C637828CA9A215368CD2B74F12AD74AEC04FF3E325093352DACD292ED3C811577A47BC88FCD82AA3682447; team=team=f117df50-5c7d-4e71-bd1e-eed94f3158d9; teamspot.LastMaintenanceWindowCheck=teamspot.LastMaintenanceWindowCheck=<?xml version=\"1.0\" encoding=\"utf-16\"?>%0d%0a<dateTime>2023-11-08T19:48:38.2563504+00:00</dateTime>\"\"\"\n",
        "custom_cookie_name = \"teamspot.LastMaintenanceWindowCheck\"\n",
        "custom_cookie_value = \"customMaintenanceValue\"\n",
        "output_js_cookies = cookies_to_javascript(input_cookies, custom_cookie_name, custom_cookie_value)\n",
        "print(output_js_cookies)"
      ],
      "metadata": {
        "colab": {
          "base_uri": "https://localhost:8080/"
        },
        "id": "_vXQ7iDAStae",
        "outputId": "5b3bd50d-077e-4c2b-9461-51592a2c6001"
      },
      "execution_count": null,
      "outputs": [
        {
          "output_type": "stream",
          "name": "stdout",
          "text": [
            "document.cookie = \"Teamspot.TOS.Agreement.201=Teamspot.TOS.Agreement.201=201; expires=Fri, 31 Dec 9999 23:59:59 GMT\";\n",
            "document.cookie = \"community=community=cbe4d009-25ad-4ab5-b61f-e702f4ad68c5; expires=Fri, 31 Dec 9999 23:59:59 GMT\";\n",
            "document.cookie = \"Teamspot.PublicCookies.Allow.103=Teamspot.PublicCookies.Allow.103=103; expires=Fri, 31 Dec 9999 23:59:59 GMT\";\n",
            "document.cookie = \"page=page=; expires=Fri, 31 Dec 9999 23:59:59 GMT\";\n",
            "document.cookie = \"teamspot.enableSessionKey=teamspot.enableSessionKey=1; expires=Fri, 31 Dec 9999 23:59:59 GMT\";\n",
            "document.cookie = \"teamspot.enableSessionKey2=teamspot.enableSessionKey2=1; expires=Fri, 31 Dec 9999 23:59:59 GMT\";\n",
            "document.cookie = \"teamspot.user=teamspot.user=b19d05b4-4c8e-41c2-9b04-fe1aaf7d2491; expires=Fri, 31 Dec 9999 23:59:59 GMT\";\n",
            "document.cookie = \"teamspot.sessionKey=teamspot.sessionKey=32ab8f78-baf0-4fd5-b62b-766dd929e51d; expires=Fri, 31 Dec 9999 23:59:59 GMT\";\n",
            "document.cookie = \".ASPXAUTH=8E8EF95122AF643380481C45AD3DFFDD4DD540838C4797FDB6D69CBEE99D52A355A73EACB1596C4F8E79300B348D2CC66A8A150C59457F91C156FFC52064AA41FABDDD1BE55CAF4DA08B1AE2033A30EA1FDBCF6B75C637828CA9A215368CD2B74F12AD74AEC04FF3E325093352DACD292ED3C811577A47BC88FCD82AA3682447; expires=Fri, 31 Dec 9999 23:59:59 GMT\";\n",
            "document.cookie = \"team=team=f117df50-5c7d-4e71-bd1e-eed94f3158d9; expires=Fri, 31 Dec 9999 23:59:59 GMT\";\n",
            "document.cookie = \"teamspot.LastMaintenanceWindowCheck=teamspot.LastMaintenanceWindowCheck=<?xml version=\"1.0\" encoding=\"utf-16\"?>%0d%0a<dateTime>2023-11-08T19:48:38.2563504+00:00</dateTime>; expires=Fri, 31 Dec 9999 23:59:59 GMT\";\n"
          ]
        }
      ]
    }
  ]
}
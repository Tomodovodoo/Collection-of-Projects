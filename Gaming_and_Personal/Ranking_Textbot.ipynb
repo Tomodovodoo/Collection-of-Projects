{
  "nbformat": 4,
  "nbformat_minor": 0,
  "metadata": {
    "colab": {
      "provenance": []
    },
    "kernelspec": {
      "name": "python3",
      "display_name": "Python 3"
    },
    "language_info": {
      "name": "python"
    }
  },
  "cells": [
    {
      "cell_type": "code",
      "execution_count": null,
      "metadata": {
        "colab": {
          "base_uri": "https://localhost:8080/"
        },
        "id": "xUysGWzcYjx8",
        "outputId": "03a24c30-5a4a-4077-d291-f0af9541ce7a"
      },
      "outputs": [
        {
          "output_type": "stream",
          "name": "stdout",
          "text": [
            "Collecting praw\n",
            "  Downloading praw-7.8.1-py3-none-any.whl.metadata (9.4 kB)\n",
            "Collecting prawcore<3,>=2.4 (from praw)\n",
            "  Downloading prawcore-2.4.0-py3-none-any.whl.metadata (5.0 kB)\n",
            "Collecting update_checker>=0.18 (from praw)\n",
            "  Downloading update_checker-0.18.0-py3-none-any.whl.metadata (2.3 kB)\n",
            "Requirement already satisfied: websocket-client>=0.54.0 in /usr/local/lib/python3.11/dist-packages (from praw) (1.8.0)\n",
            "Requirement already satisfied: requests<3.0,>=2.6.0 in /usr/local/lib/python3.11/dist-packages (from prawcore<3,>=2.4->praw) (2.32.3)\n",
            "Requirement already satisfied: charset-normalizer<4,>=2 in /usr/local/lib/python3.11/dist-packages (from requests<3.0,>=2.6.0->prawcore<3,>=2.4->praw) (3.4.2)\n",
            "Requirement already satisfied: idna<4,>=2.5 in /usr/local/lib/python3.11/dist-packages (from requests<3.0,>=2.6.0->prawcore<3,>=2.4->praw) (3.10)\n",
            "Requirement already satisfied: urllib3<3,>=1.21.1 in /usr/local/lib/python3.11/dist-packages (from requests<3.0,>=2.6.0->prawcore<3,>=2.4->praw) (2.4.0)\n",
            "Requirement already satisfied: certifi>=2017.4.17 in /usr/local/lib/python3.11/dist-packages (from requests<3.0,>=2.6.0->prawcore<3,>=2.4->praw) (2025.4.26)\n",
            "Downloading praw-7.8.1-py3-none-any.whl (189 kB)\n",
            "\u001b[2K   \u001b[90m━━━━━━━━━━━━━━━━━━━━━━━━━━━━━━━━━━━━━━━━\u001b[0m \u001b[32m189.3/189.3 kB\u001b[0m \u001b[31m5.1 MB/s\u001b[0m eta \u001b[36m0:00:00\u001b[0m\n",
            "\u001b[?25hDownloading prawcore-2.4.0-py3-none-any.whl (17 kB)\n",
            "Downloading update_checker-0.18.0-py3-none-any.whl (7.0 kB)\n",
            "Installing collected packages: update_checker, prawcore, praw\n",
            "Successfully installed praw-7.8.1 prawcore-2.4.0 update_checker-0.18.0\n"
          ]
        }
      ],
      "source": [
        "!pip install praw\n",
        "\n",
        "import praw"
      ]
    },
    {
      "cell_type": "code",
      "source": [
        "\n",
        "# Fill these in with your app credentials\n",
        "client_id = 'LETS NOT'\n",
        "client_secret = 'LETS NOT'\n",
        "user_agent = 'CommentScraper by Tomodovodoo'\n",
        "\n",
        "# Initialize Reddit API\n",
        "reddit = praw.Reddit(client_id=client_id,\n",
        "                     client_secret=client_secret,\n",
        "                     user_agent=user_agent)\n",
        "\n",
        "# Target username\n",
        "username = 'texting-theory-bot'\n",
        "user = reddit.redditor(username)\n",
        "\n",
        "# Create a list to store comment texts with links\n",
        "comment_texts = []\n",
        "\n",
        "# Fetch all comments and store both link and text\n",
        "for comment in user.comments.new(limit=None):\n",
        "    comment_link = f\"https://www.reddit.com{comment.permalink}\"\n",
        "    full_comment = f\"{comment_link}\\n{comment.body}\"\n",
        "    comment_texts.append(full_comment)\n",
        "\n",
        "# Show how many were collected\n",
        "print(f\"Collected {len(comment_texts)} comments.\")"
      ],
      "metadata": {
        "colab": {
          "base_uri": "https://localhost:8080/"
        },
        "id": "mvrFjev2YnGH",
        "outputId": "fa5c3f96-e134-471a-e05c-b0450c6c3181"
      },
      "execution_count": null,
      "outputs": [
        {
          "output_type": "stream",
          "name": "stderr",
          "text": [
            "WARNING:praw:It appears that you are using PRAW in an asynchronous environment.\n",
            "It is strongly recommended to use Async PRAW: https://asyncpraw.readthedocs.io.\n",
            "See https://praw.readthedocs.io/en/latest/getting_started/multiple_instances.html#discord-bots-and-asynchronous-environments for more info.\n",
            "\n",
            "WARNING:praw:It appears that you are using PRAW in an asynchronous environment.\n",
            "It is strongly recommended to use Async PRAW: https://asyncpraw.readthedocs.io.\n",
            "See https://praw.readthedocs.io/en/latest/getting_started/multiple_instances.html#discord-bots-and-asynchronous-environments for more info.\n",
            "\n",
            "WARNING:praw:It appears that you are using PRAW in an asynchronous environment.\n",
            "It is strongly recommended to use Async PRAW: https://asyncpraw.readthedocs.io.\n",
            "See https://praw.readthedocs.io/en/latest/getting_started/multiple_instances.html#discord-bots-and-asynchronous-environments for more info.\n",
            "\n",
            "WARNING:praw:It appears that you are using PRAW in an asynchronous environment.\n",
            "It is strongly recommended to use Async PRAW: https://asyncpraw.readthedocs.io.\n",
            "See https://praw.readthedocs.io/en/latest/getting_started/multiple_instances.html#discord-bots-and-asynchronous-environments for more info.\n",
            "\n",
            "WARNING:praw:It appears that you are using PRAW in an asynchronous environment.\n",
            "It is strongly recommended to use Async PRAW: https://asyncpraw.readthedocs.io.\n",
            "See https://praw.readthedocs.io/en/latest/getting_started/multiple_instances.html#discord-bots-and-asynchronous-environments for more info.\n",
            "\n",
            "WARNING:praw:It appears that you are using PRAW in an asynchronous environment.\n",
            "It is strongly recommended to use Async PRAW: https://asyncpraw.readthedocs.io.\n",
            "See https://praw.readthedocs.io/en/latest/getting_started/multiple_instances.html#discord-bots-and-asynchronous-environments for more info.\n",
            "\n",
            "WARNING:praw:It appears that you are using PRAW in an asynchronous environment.\n",
            "It is strongly recommended to use Async PRAW: https://asyncpraw.readthedocs.io.\n",
            "See https://praw.readthedocs.io/en/latest/getting_started/multiple_instances.html#discord-bots-and-asynchronous-environments for more info.\n",
            "\n",
            "WARNING:praw:It appears that you are using PRAW in an asynchronous environment.\n",
            "It is strongly recommended to use Async PRAW: https://asyncpraw.readthedocs.io.\n",
            "See https://praw.readthedocs.io/en/latest/getting_started/multiple_instances.html#discord-bots-and-asynchronous-environments for more info.\n",
            "\n",
            "WARNING:praw:It appears that you are using PRAW in an asynchronous environment.\n",
            "It is strongly recommended to use Async PRAW: https://asyncpraw.readthedocs.io.\n",
            "See https://praw.readthedocs.io/en/latest/getting_started/multiple_instances.html#discord-bots-and-asynchronous-environments for more info.\n",
            "\n",
            "WARNING:praw:It appears that you are using PRAW in an asynchronous environment.\n",
            "It is strongly recommended to use Async PRAW: https://asyncpraw.readthedocs.io.\n",
            "See https://praw.readthedocs.io/en/latest/getting_started/multiple_instances.html#discord-bots-and-asynchronous-environments for more info.\n",
            "\n",
            "WARNING:praw:It appears that you are using PRAW in an asynchronous environment.\n",
            "It is strongly recommended to use Async PRAW: https://asyncpraw.readthedocs.io.\n",
            "See https://praw.readthedocs.io/en/latest/getting_started/multiple_instances.html#discord-bots-and-asynchronous-environments for more info.\n",
            "\n",
            "WARNING:praw:It appears that you are using PRAW in an asynchronous environment.\n",
            "It is strongly recommended to use Async PRAW: https://asyncpraw.readthedocs.io.\n",
            "See https://praw.readthedocs.io/en/latest/getting_started/multiple_instances.html#discord-bots-and-asynchronous-environments for more info.\n",
            "\n",
            "WARNING:praw:It appears that you are using PRAW in an asynchronous environment.\n",
            "It is strongly recommended to use Async PRAW: https://asyncpraw.readthedocs.io.\n",
            "See https://praw.readthedocs.io/en/latest/getting_started/multiple_instances.html#discord-bots-and-asynchronous-environments for more info.\n",
            "\n",
            "WARNING:praw:It appears that you are using PRAW in an asynchronous environment.\n",
            "It is strongly recommended to use Async PRAW: https://asyncpraw.readthedocs.io.\n",
            "See https://praw.readthedocs.io/en/latest/getting_started/multiple_instances.html#discord-bots-and-asynchronous-environments for more info.\n",
            "\n",
            "WARNING:praw:It appears that you are using PRAW in an asynchronous environment.\n",
            "It is strongly recommended to use Async PRAW: https://asyncpraw.readthedocs.io.\n",
            "See https://praw.readthedocs.io/en/latest/getting_started/multiple_instances.html#discord-bots-and-asynchronous-environments for more info.\n",
            "\n",
            "WARNING:praw:It appears that you are using PRAW in an asynchronous environment.\n",
            "It is strongly recommended to use Async PRAW: https://asyncpraw.readthedocs.io.\n",
            "See https://praw.readthedocs.io/en/latest/getting_started/multiple_instances.html#discord-bots-and-asynchronous-environments for more info.\n",
            "\n",
            "WARNING:praw:It appears that you are using PRAW in an asynchronous environment.\n",
            "It is strongly recommended to use Async PRAW: https://asyncpraw.readthedocs.io.\n",
            "See https://praw.readthedocs.io/en/latest/getting_started/multiple_instances.html#discord-bots-and-asynchronous-environments for more info.\n",
            "\n",
            "WARNING:praw:It appears that you are using PRAW in an asynchronous environment.\n",
            "It is strongly recommended to use Async PRAW: https://asyncpraw.readthedocs.io.\n",
            "See https://praw.readthedocs.io/en/latest/getting_started/multiple_instances.html#discord-bots-and-asynchronous-environments for more info.\n",
            "\n",
            "WARNING:praw:It appears that you are using PRAW in an asynchronous environment.\n",
            "It is strongly recommended to use Async PRAW: https://asyncpraw.readthedocs.io.\n",
            "See https://praw.readthedocs.io/en/latest/getting_started/multiple_instances.html#discord-bots-and-asynchronous-environments for more info.\n",
            "\n",
            "WARNING:praw:It appears that you are using PRAW in an asynchronous environment.\n",
            "It is strongly recommended to use Async PRAW: https://asyncpraw.readthedocs.io.\n",
            "See https://praw.readthedocs.io/en/latest/getting_started/multiple_instances.html#discord-bots-and-asynchronous-environments for more info.\n",
            "\n"
          ]
        },
        {
          "output_type": "stream",
          "name": "stdout",
          "text": [
            "Collected 1964 comments.\n"
          ]
        }
      ]
    },
    {
      "cell_type": "code",
      "source": [
        "print(comment_texts[400])"
      ],
      "metadata": {
        "colab": {
          "base_uri": "https://localhost:8080/"
        },
        "collapsed": true,
        "id": "Z16BQ-6sZf4U",
        "outputId": "73ed05db-0414-478e-c1f1-1c1d3217b050"
      },
      "execution_count": null,
      "outputs": [
        {
          "output_type": "stream",
          "name": "stdout",
          "text": [
            "https://www.reddit.com/r/TextingTheory/comments/1ko0mrc/whats_my_elo/msmd4ih/\n",
            "**Game Analysis**\n",
            "\n",
            "https://preview.redd.it/2tm242f1a51f1.jpeg?width=1280&format=pjpg&auto=webp&s=be5414ded102b636dafcfacc4d05e51e5bb92843\n",
            "\n",
            "*Teasing Attack: Weekend Plans Variation*\n",
            "\n",
            "\n",
            "\n",
            "|Gray (650)||Purple (700)|\n",
            "|:-|:-|:-|\n",
            "|0|Brilliant|0|\n",
            "|0|Great|0|\n",
            "|0|Best|0|\n",
            "|0|Excellent|0|\n",
            "|3|Good|5|\n",
            "|0|Book|0|\n",
            "|0|Inaccuracy|1|\n",
            "|0|Mistake|0|\n",
            "|0|Miss|0|\n",
            "|0|Blunder|0|\n",
            "\n",
            "  \n",
            "[!annotate guide](https://www.reddit.com/r/TextingTheory/comments/1kdxh6x/comment/mqk2jzn/)\n",
            "\n",
            "[about the bot](https://www.reddit.com/r/TextingTheory/comments/1k8fed9/utextingtheorybot/)\n"
          ]
        }
      ]
    },
    {
      "cell_type": "code",
      "source": [
        "\n",
        "import re\n",
        "\n",
        "# Dictionary to store highest elo per comment\n",
        "elo_scores = []\n",
        "\n",
        "# Go through all comments and find the highest number in each\n",
        "for i, text in enumerate(comment_texts):\n",
        "    numbers = list(map(int, re.findall(r'\\b\\d{3,5}\\b', text)))  # find numbers of 3+ digits\n",
        "    if numbers:\n",
        "        max_elo = max(numbers)\n",
        "        elo_scores.append((i, max_elo, text))\n",
        "\n",
        "# Sort by highest ELO\n",
        "elo_scores_sorted = sorted(elo_scores, key=lambda x: x[1], reverse=True)\n",
        "\n",
        "# Display top 10\n",
        "for rank, (index, elo, text) in enumerate(elo_scores_sorted[:10], start=1):\n",
        "    print(f\"{rank}. Comment #{index} | ELO: {elo}\\n{text[:200]}...\\n\")"
      ],
      "metadata": {
        "colab": {
          "base_uri": "https://localhost:8080/"
        },
        "id": "Sd-7ZIz9aPQ6",
        "outputId": "64230e61-fbc4-42ed-b799-045db9718774"
      },
      "execution_count": null,
      "outputs": [
        {
          "output_type": "stream",
          "name": "stdout",
          "text": [
            "1. Comment #391 | ELO: 2200\n",
            "https://www.reddit.com/r/TextingTheory/comments/1ko4hpi/the_testing_of_a_life_time_everything_is_on_the/msn94q5/\n",
            "**Game Analysis**\n",
            "\n",
            "https://preview.redd.it/odogdsew261f1.jpeg?width=1280&format=pjpg&au...\n",
            "\n",
            "2. Comment #250 | ELO: 2025\n",
            "https://www.reddit.com/r/TextingTheory/comments/1kpg41r/im_interested_to_see_blues_elo/msxh83w/\n",
            "**Game Analysis**\n",
            "\n",
            "https://preview.redd.it/67ve3p75gi1f1.jpeg?width=1280&format=pjpg&auto=webp&s=b11f76b...\n",
            "\n",
            "3. Comment #338 | ELO: 2025\n",
            "https://www.reddit.com/r/TextingTheory/comments/1koka94/this_image_has_been_everywhere_i_wanna_know_what/msqs3oy/\n",
            "**Game Analysis**\n",
            "\n",
            "https://preview.redd.it/cebhyj9vp91f1.jpeg?width=1280&format=pjpg&a...\n",
            "\n",
            "4. Comment #402 | ELO: 2025\n",
            "https://www.reddit.com/r/TextingTheory/comments/1ko0j8e/trap_and_check/msmcdkp/\n",
            "**Game Analysis**\n",
            "\n",
            "https://preview.redd.it/txxnec3a951f1.jpeg?width=1280&format=pjpg&auto=webp&s=efcc84dfbbc5e7a262b07f1...\n",
            "\n",
            "5. Comment #49 | ELO: 1900\n",
            "https://www.reddit.com/r/TextingTheory/comments/1krbe3y/out_of_this_universe_type_rizz/mtc0za8/\n",
            "**Game Analysis**\n",
            "\n",
            "https://preview.redd.it/4wvmhshj6z1f1.jpeg?width=1280&format=pjpg&auto=webp&s=e706a19...\n",
            "\n",
            "6. Comment #210 | ELO: 1900\n",
            "https://www.reddit.com/r/TextingTheory/comments/1kpu5lf/escalation_gambit/mt0k8j2/\n",
            "**Game Analysis**\n",
            "\n",
            "https://preview.redd.it/dqdq1jbusl1f1.jpeg?width=1280&format=pjpg&auto=webp&s=bbf64c6e2e0800ca1d17...\n",
            "\n",
            "7. Comment #481 | ELO: 1900\n",
            "https://www.reddit.com/r/TextingTheory/comments/1knh9yl/got_mated_in_3/msi55g9/\n",
            "**Game Analysis**\n",
            "\n",
            "https://preview.redd.it/78nzespy001f1.jpeg?width=1280&format=pjpg&auto=webp&s=d33039f7259cc482b05fa0d...\n",
            "\n",
            "8. Comment #2 | ELO: 1850\n",
            "https://www.reddit.com/r/TextingTheory/comments/1krttsy/is_this_grandmaster_vs_grandmaster/mtg32bc/\n",
            "**Game Analysis**\n",
            "\n",
            "https://preview.redd.it/krbsh5fxw32f1.jpeg?width=1280&format=pjpg&auto=webp&s=960...\n",
            "\n",
            "9. Comment #90 | ELO: 1850\n",
            "https://www.reddit.com/r/TextingTheory/comments/1kqvpqz/elo_test/mt8p56n/\n",
            "**Game Analysis**\n",
            "\n",
            "https://preview.redd.it/0jrekrms1v1f1.jpeg?width=1280&format=pjpg&auto=webp&s=9f798e6ca9ca28d38937c1ac873c5...\n",
            "\n",
            "10. Comment #266 | ELO: 1850\n",
            "https://www.reddit.com/r/TextingTheory/comments/1kp9h6e/megamind_gambit/msw5fky/\n",
            "**Game Analysis**\n",
            "\n",
            "https://preview.redd.it/huhj40zhag1f1.jpeg?width=1280&format=pjpg&auto=webp&s=74af1fd7e242c2b9a3834a...\n",
            "\n"
          ]
        }
      ]
    },
    {
      "cell_type": "code",
      "source": [
        "\n",
        "import re\n",
        "\n",
        "# List to hold comments that contain at least one Brilliant move\n",
        "brilliant_comments = []\n",
        "\n",
        "for comment in comment_texts:\n",
        "    # Look for a table row like \"|<any>|Brilliant|<count>|\"\n",
        "    m = re.search(r\"\\|\\s*\\d+\\s*\\|\\s*Brilliant\\s*\\|\\s*(\\d+)\\s*\\|\", comment)\n",
        "    if m and int(m.group(1)) > 0:\n",
        "        brilliant_comments.append(comment)\n",
        "\n",
        "# Output\n",
        "print(f\"Found {len(brilliant_comments)} comments with Brilliant moves:\\n\")\n",
        "for c in brilliant_comments:\n",
        "    # each entry starts with the Reddit comment link\n",
        "    link = c.split('\\n', 1)[0]\n",
        "    print(link)"
      ],
      "metadata": {
        "colab": {
          "base_uri": "https://localhost:8080/"
        },
        "id": "Y9PLN4bhaTF7",
        "outputId": "94ef13b9-ea8a-4dad-d05e-d87429622cca"
      },
      "execution_count": null,
      "outputs": [
        {
          "output_type": "stream",
          "name": "stdout",
          "text": [
            "Found 15 comments with Brilliant moves:\n",
            "\n",
            "https://www.reddit.com/r/TextingTheory/comments/1krm4uw/grandmaster_over_at_rtinder/mtehdjb/\n",
            "https://www.reddit.com/r/TextingTheory/comments/1kqvpqz/elo_test/mt8p56n/\n",
            "https://www.reddit.com/r/TextingTheory/comments/1kqrok2/dildo_order_gambit/mt7wgqe/\n",
            "https://www.reddit.com/r/TextingTheory/comments/1kpu5lf/escalation_gambit/mt0k8j2/\n",
            "https://www.reddit.com/r/TextingTheory/comments/1kpg41r/im_interested_to_see_blues_elo/msxh83w/\n",
            "https://www.reddit.com/r/TextingTheory/comments/1koka94/this_image_has_been_everywhere_i_wanna_know_what/msqs3oy/\n",
            "https://www.reddit.com/r/TextingTheory/comments/1kob01k/am_i_doing_this_right/msor2kw/\n",
            "https://www.reddit.com/r/TextingTheory/comments/1ko0j8e/trap_and_check/msmcdkp/\n",
            "https://www.reddit.com/r/TextingTheory/comments/1kndm6a/from_a_recent_raita_post/mshb2xq/\n",
            "https://www.reddit.com/r/TextingTheory/comments/1kmtz0x/this_is_how_its_done/msczx2i/\n",
            "https://www.reddit.com/r/TextingTheory/comments/1kms86x/hyperfixation_gambit/msclq46/\n",
            "https://www.reddit.com/r/TextingTheory/comments/1kmqa0g/conversation_i_had_with_my_ex/msc64g7/\n",
            "https://www.reddit.com/r/TextingTheory/comments/1kml4pc/pay_up_gambit/msazods/\n",
            "https://www.reddit.com/r/TextingTheory/comments/1ki2ljg/the_meth_gambit/mrbloq6/\n",
            "https://www.reddit.com/r/TextingTheory/comments/1kgm3d9/update/mr0ah68/\n"
          ]
        }
      ]
    }
  ]
}
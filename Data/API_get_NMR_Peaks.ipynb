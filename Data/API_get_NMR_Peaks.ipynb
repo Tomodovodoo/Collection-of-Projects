{
  "nbformat": 4,
  "nbformat_minor": 0,
  "metadata": {
    "colab": {
      "provenance": []
    },
    "kernelspec": {
      "name": "python3",
      "display_name": "Python 3"
    },
    "language_info": {
      "name": "python"
    }
  },
  "cells": [
    {
      "cell_type": "code",
      "execution_count": 1,
      "metadata": {
        "colab": {
          "base_uri": "https://localhost:8080/",
          "height": 17
        },
        "id": "xN4uH3uVY8LI",
        "outputId": "2d42a31b-8e54-4cd4-9566-a89d15d8a53b"
      },
      "outputs": [
        {
          "output_type": "display_data",
          "data": {
            "text/plain": [
              "<IPython.core.display.Javascript object>"
            ],
            "application/javascript": [
              "\n",
              "    async function download(id, filename, size) {\n",
              "      if (!google.colab.kernel.accessAllowed) {\n",
              "        return;\n",
              "      }\n",
              "      const div = document.createElement('div');\n",
              "      const label = document.createElement('label');\n",
              "      label.textContent = `Downloading \"${filename}\": `;\n",
              "      div.appendChild(label);\n",
              "      const progress = document.createElement('progress');\n",
              "      progress.max = size;\n",
              "      div.appendChild(progress);\n",
              "      document.body.appendChild(div);\n",
              "\n",
              "      const buffers = [];\n",
              "      let downloaded = 0;\n",
              "\n",
              "      const channel = await google.colab.kernel.comms.open(id);\n",
              "      // Send a message to notify the kernel that we're ready.\n",
              "      channel.send({})\n",
              "\n",
              "      for await (const message of channel.messages) {\n",
              "        // Send a message to notify the kernel that we're ready.\n",
              "        channel.send({})\n",
              "        if (message.buffers) {\n",
              "          for (const buffer of message.buffers) {\n",
              "            buffers.push(buffer);\n",
              "            downloaded += buffer.byteLength;\n",
              "            progress.value = downloaded;\n",
              "          }\n",
              "        }\n",
              "      }\n",
              "      const blob = new Blob(buffers, {type: 'application/binary'});\n",
              "      const a = document.createElement('a');\n",
              "      a.href = window.URL.createObjectURL(blob);\n",
              "      a.download = filename;\n",
              "      div.appendChild(a);\n",
              "      a.click();\n",
              "      div.remove();\n",
              "    }\n",
              "  "
            ]
          },
          "metadata": {}
        },
        {
          "output_type": "display_data",
          "data": {
            "text/plain": [
              "<IPython.core.display.Javascript object>"
            ],
            "application/javascript": [
              "download(\"download_7b4d2618-3c35-4ad2-bb91-a2ba43999b15\", \"041031_P00_04_IS20121204-87231-ly9kj0.txt\", 922)"
            ]
          },
          "metadata": {}
        }
      ],
      "source": [
        "\n",
        "# 1. Fetch the file\n",
        "import requests\n",
        "\n",
        "url = \"https://moldb.wishartlab.com/system/documents/files/000/027/891/original/041031_P00_04_IS20121204-87231-ly9kj0.txt?1354661422\"\n",
        "resp = requests.get(url)\n",
        "resp.raise_for_status()  # will error out if download failed\n",
        "\n",
        "# 2. Save it locally\n",
        "fname = \"041031_P00_04_IS20121204-87231-ly9kj0.txt\"\n",
        "with open(fname, \"wb\") as f:\n",
        "    f.write(resp.content)\n",
        "\n",
        "# 3. Trigger browser download to your device\n",
        "from google.colab import files\n",
        "files.download(fname)"
      ]
    }
  ]
}
{
  "cells": [
    {
      "cell_type": "markdown",
      "metadata": {
        "id": "za8qr-Npc-he"
      },
      "source": [
        "Use https://multimeric.github.io/DelverLensExtract/ and the latest apk+export the Delver Lens file.\n",
        "\n",
        "Then import to here."
      ]
    },
    {
      "cell_type": "markdown",
      "metadata": {
        "id": "1t75zq9kp76V"
      },
      "source": [
        "Upload Generated cards.csv"
      ]
    },
    {
      "cell_type": "code",
      "execution_count": null,
      "metadata": {
        "id": "Yk5UQnP0IUww"
      },
      "outputs": [],
      "source": [
        "from google.colab import files\n",
        "import pandas as pd\n",
        "import os\n",
        "import zipfile\n",
        "import requests\n",
        "import time\n",
        "from tqdm import tqdm, trange"
      ]
    },
    {
      "cell_type": "code",
      "execution_count": null,
      "metadata": {
        "colab": {
          "base_uri": "https://localhost:8080/",
          "height": 90
        },
        "id": "ioRZK7NjRO7K",
        "outputId": "0694f9cd-95d2-401d-a555-f4b9861db00e"
      },
      "outputs": [
        {
          "output_type": "display_data",
          "data": {
            "text/plain": [
              "<IPython.core.display.HTML object>"
            ],
            "text/html": [
              "\n",
              "     <input type=\"file\" id=\"files-879bc7bd-a652-468e-9cec-b9e094ed0f14\" name=\"files[]\" multiple disabled\n",
              "        style=\"border:none\" />\n",
              "     <output id=\"result-879bc7bd-a652-468e-9cec-b9e094ed0f14\">\n",
              "      Upload widget is only available when the cell has been executed in the\n",
              "      current browser session. Please rerun this cell to enable.\n",
              "      </output>\n",
              "      <script>// Copyright 2017 Google LLC\n",
              "//\n",
              "// Licensed under the Apache License, Version 2.0 (the \"License\");\n",
              "// you may not use this file except in compliance with the License.\n",
              "// You may obtain a copy of the License at\n",
              "//\n",
              "//      http://www.apache.org/licenses/LICENSE-2.0\n",
              "//\n",
              "// Unless required by applicable law or agreed to in writing, software\n",
              "// distributed under the License is distributed on an \"AS IS\" BASIS,\n",
              "// WITHOUT WARRANTIES OR CONDITIONS OF ANY KIND, either express or implied.\n",
              "// See the License for the specific language governing permissions and\n",
              "// limitations under the License.\n",
              "\n",
              "/**\n",
              " * @fileoverview Helpers for google.colab Python module.\n",
              " */\n",
              "(function(scope) {\n",
              "function span(text, styleAttributes = {}) {\n",
              "  const element = document.createElement('span');\n",
              "  element.textContent = text;\n",
              "  for (const key of Object.keys(styleAttributes)) {\n",
              "    element.style[key] = styleAttributes[key];\n",
              "  }\n",
              "  return element;\n",
              "}\n",
              "\n",
              "// Max number of bytes which will be uploaded at a time.\n",
              "const MAX_PAYLOAD_SIZE = 100 * 1024;\n",
              "\n",
              "function _uploadFiles(inputId, outputId) {\n",
              "  const steps = uploadFilesStep(inputId, outputId);\n",
              "  const outputElement = document.getElementById(outputId);\n",
              "  // Cache steps on the outputElement to make it available for the next call\n",
              "  // to uploadFilesContinue from Python.\n",
              "  outputElement.steps = steps;\n",
              "\n",
              "  return _uploadFilesContinue(outputId);\n",
              "}\n",
              "\n",
              "// This is roughly an async generator (not supported in the browser yet),\n",
              "// where there are multiple asynchronous steps and the Python side is going\n",
              "// to poll for completion of each step.\n",
              "// This uses a Promise to block the python side on completion of each step,\n",
              "// then passes the result of the previous step as the input to the next step.\n",
              "function _uploadFilesContinue(outputId) {\n",
              "  const outputElement = document.getElementById(outputId);\n",
              "  const steps = outputElement.steps;\n",
              "\n",
              "  const next = steps.next(outputElement.lastPromiseValue);\n",
              "  return Promise.resolve(next.value.promise).then((value) => {\n",
              "    // Cache the last promise value to make it available to the next\n",
              "    // step of the generator.\n",
              "    outputElement.lastPromiseValue = value;\n",
              "    return next.value.response;\n",
              "  });\n",
              "}\n",
              "\n",
              "/**\n",
              " * Generator function which is called between each async step of the upload\n",
              " * process.\n",
              " * @param {string} inputId Element ID of the input file picker element.\n",
              " * @param {string} outputId Element ID of the output display.\n",
              " * @return {!Iterable<!Object>} Iterable of next steps.\n",
              " */\n",
              "function* uploadFilesStep(inputId, outputId) {\n",
              "  const inputElement = document.getElementById(inputId);\n",
              "  inputElement.disabled = false;\n",
              "\n",
              "  const outputElement = document.getElementById(outputId);\n",
              "  outputElement.innerHTML = '';\n",
              "\n",
              "  const pickedPromise = new Promise((resolve) => {\n",
              "    inputElement.addEventListener('change', (e) => {\n",
              "      resolve(e.target.files);\n",
              "    });\n",
              "  });\n",
              "\n",
              "  const cancel = document.createElement('button');\n",
              "  inputElement.parentElement.appendChild(cancel);\n",
              "  cancel.textContent = 'Cancel upload';\n",
              "  const cancelPromise = new Promise((resolve) => {\n",
              "    cancel.onclick = () => {\n",
              "      resolve(null);\n",
              "    };\n",
              "  });\n",
              "\n",
              "  // Wait for the user to pick the files.\n",
              "  const files = yield {\n",
              "    promise: Promise.race([pickedPromise, cancelPromise]),\n",
              "    response: {\n",
              "      action: 'starting',\n",
              "    }\n",
              "  };\n",
              "\n",
              "  cancel.remove();\n",
              "\n",
              "  // Disable the input element since further picks are not allowed.\n",
              "  inputElement.disabled = true;\n",
              "\n",
              "  if (!files) {\n",
              "    return {\n",
              "      response: {\n",
              "        action: 'complete',\n",
              "      }\n",
              "    };\n",
              "  }\n",
              "\n",
              "  for (const file of files) {\n",
              "    const li = document.createElement('li');\n",
              "    li.append(span(file.name, {fontWeight: 'bold'}));\n",
              "    li.append(span(\n",
              "        `(${file.type || 'n/a'}) - ${file.size} bytes, ` +\n",
              "        `last modified: ${\n",
              "            file.lastModifiedDate ? file.lastModifiedDate.toLocaleDateString() :\n",
              "                                    'n/a'} - `));\n",
              "    const percent = span('0% done');\n",
              "    li.appendChild(percent);\n",
              "\n",
              "    outputElement.appendChild(li);\n",
              "\n",
              "    const fileDataPromise = new Promise((resolve) => {\n",
              "      const reader = new FileReader();\n",
              "      reader.onload = (e) => {\n",
              "        resolve(e.target.result);\n",
              "      };\n",
              "      reader.readAsArrayBuffer(file);\n",
              "    });\n",
              "    // Wait for the data to be ready.\n",
              "    let fileData = yield {\n",
              "      promise: fileDataPromise,\n",
              "      response: {\n",
              "        action: 'continue',\n",
              "      }\n",
              "    };\n",
              "\n",
              "    // Use a chunked sending to avoid message size limits. See b/62115660.\n",
              "    let position = 0;\n",
              "    do {\n",
              "      const length = Math.min(fileData.byteLength - position, MAX_PAYLOAD_SIZE);\n",
              "      const chunk = new Uint8Array(fileData, position, length);\n",
              "      position += length;\n",
              "\n",
              "      const base64 = btoa(String.fromCharCode.apply(null, chunk));\n",
              "      yield {\n",
              "        response: {\n",
              "          action: 'append',\n",
              "          file: file.name,\n",
              "          data: base64,\n",
              "        },\n",
              "      };\n",
              "\n",
              "      let percentDone = fileData.byteLength === 0 ?\n",
              "          100 :\n",
              "          Math.round((position / fileData.byteLength) * 100);\n",
              "      percent.textContent = `${percentDone}% done`;\n",
              "\n",
              "    } while (position < fileData.byteLength);\n",
              "  }\n",
              "\n",
              "  // All done.\n",
              "  yield {\n",
              "    response: {\n",
              "      action: 'complete',\n",
              "    }\n",
              "  };\n",
              "}\n",
              "\n",
              "scope.google = scope.google || {};\n",
              "scope.google.colab = scope.google.colab || {};\n",
              "scope.google.colab._files = {\n",
              "  _uploadFiles,\n",
              "  _uploadFilesContinue,\n",
              "};\n",
              "})(self);\n",
              "</script> "
            ]
          },
          "metadata": {}
        },
        {
          "output_type": "stream",
          "name": "stdout",
          "text": [
            "Saving cards.csv to cards.csv\n",
            "Uploaded file: cards.csv\n"
          ]
        }
      ],
      "source": [
        "uploaded = files.upload()\n",
        "for filenames in uploaded.keys():\n",
        "    print(f'Uploaded file: {filenames}')"
      ]
    },
    {
      "cell_type": "markdown",
      "source": [
        "# Run code"
      ],
      "metadata": {
        "id": "uXsfHjpuRZ5F"
      }
    },
    {
      "cell_type": "code",
      "execution_count": null,
      "metadata": {
        "colab": {
          "base_uri": "https://localhost:8080/"
        },
        "id": "vUbiyEh2Tz2z",
        "outputId": "19a25719-f442-4820-9d4f-772ea5ec3e30"
      },
      "outputs": [
        {
          "output_type": "stream",
          "name": "stdout",
          "text": [
            "Selected columns saved to 'selected_cards.csv'.\n"
          ]
        }
      ],
      "source": [
        "df = pd.read_csv(filenames)\n",
        "selected_columns = df[['list', 'name']]\n",
        "selected_columns.to_csv('selected_cards.csv', index=False)\n",
        "\n",
        "print(\"Selected columns saved to 'selected_cards.csv'.\")"
      ]
    },
    {
      "cell_type": "code",
      "execution_count": null,
      "metadata": {
        "id": "t2wr0TJkHnFs"
      },
      "outputs": [],
      "source": [
        "df = pd.read_csv('selected_cards.csv')\n",
        "\n",
        "# Function to query Scryfall API and extract type_line and color_identity\n",
        "def get_card_info(card_name):\n",
        "    url = f'https://api.scryfall.com/cards/named?fuzzy={card_name}'\n",
        "    response = requests.get(url)\n",
        "    if response.status_code == 200:\n",
        "        card_data = response.json()\n",
        "        type_line = card_data.get('type_line')\n",
        "        colour_identity = card_data.get('color_identity')\n",
        "        return type_line, colour_identity\n",
        "    else:\n",
        "        print(f\"Failed to retrieve data for {card_name}. Status code: {response.status_code}\")\n",
        "        return None, None"
      ]
    },
    {
      "cell_type": "code",
      "execution_count": null,
      "metadata": {
        "colab": {
          "base_uri": "https://localhost:8080/"
        },
        "id": "pMAckx2bGeJ2",
        "outputId": "a609ff21-9c9c-4d33-b06b-1061c1c32960"
      },
      "outputs": [
        {
          "output_type": "stream",
          "name": "stderr",
          "text": [
            "Processing: 100%|██████████| 1895/1895 [05:56<00:00,  5.31it/s]"
          ]
        },
        {
          "output_type": "stream",
          "name": "stdout",
          "text": [
            "Type information added to 'selected_cards_with_type.csv'.\n"
          ]
        },
        {
          "output_type": "stream",
          "name": "stderr",
          "text": [
            "\n"
          ]
        }
      ],
      "source": [
        "df['Type'] = \"\"\n",
        "df['Colour'] = \"\"\n",
        "\n",
        "start_time = time.time()\n",
        "ips = 0\n",
        "\n",
        "colour_map = {\n",
        "    \"B\": \"Black\",\n",
        "    \"G\": \"Green\",\n",
        "    \"R\": \"Red\",\n",
        "    \"U\": \"Blue\",\n",
        "    \"W\": \"White\"\n",
        "}\n",
        "\n",
        "# Loop over each row in the DataFrame and query Scryfall API for type_line and color_identity\n",
        "for index, row in zip(trange(len(df), desc='Processing'), df.itertuples()):\n",
        "    card_name = row.name\n",
        "    type_line, colour_identity = get_card_info(card_name)\n",
        "    if type_line is not None:\n",
        "        df.at[index, 'Type'] = type_line\n",
        "    if colour_identity is not None:\n",
        "        if len(colour_identity) > 0:\n",
        "            colours = [colour_map.get(colour, \"Unknown\") for colour in colour_identity]\n",
        "            df.at[index, 'Colour'] = ', '.join(colours)\n",
        "        else:\n",
        "            df.at[index, 'Colour'] = \"Colourless\"\n",
        "\n",
        "    # Calculate IPS\n",
        "    elapsed_time = time.time() - start_time\n",
        "    ips = 1 / elapsed_time\n",
        "    start_time = time.time()\n",
        "    if elapsed_time > 0.1:\n",
        "        continue\n",
        "    else:\n",
        "        time.sleep(0.1 - elapsed_time)\n",
        "\n",
        "df.to_csv('selected_cards_with_type.csv', index=False)\n",
        "\n",
        "print(\"Type information added to 'selected_cards_with_type.csv'.\")"
      ]
    },
    {
      "cell_type": "code",
      "execution_count": null,
      "metadata": {
        "colab": {
          "base_uri": "https://localhost:8080/"
        },
        "id": "FWX9nOWp2ilk",
        "outputId": "135950f3-7196-48b7-b396-b0501ef9f23f"
      },
      "outputs": [
        {
          "output_type": "stream",
          "name": "stdout",
          "text": [
            "First entry names and number of entries for each list:\n",
            "List 1: Henzie Toolbox\" Torre\" (100 entries)\n",
            "List 2: Venser, Corpse Puppet (100 entries)\n",
            "List 3: Jolene, the Plunder Queen (100 entries)\n",
            "List 10: Gadrak, the Crown-Scourge (162 entries)\n",
            "List 11: Zedruu the Greathearted (100 entries)\n",
            "List 9: The Blackstaff of Waterdeep (1333 entries)\n",
            "DataFrame sorted and saved to 'selected_cards_sorted.csv'.\n"
          ]
        }
      ],
      "source": [
        "df = pd.read_csv('selected_cards_with_type.csv')\n",
        "unique_lists = df['list'].unique()\n",
        "\n",
        "first_entry_names = []\n",
        "num_entries = []\n",
        "\n",
        "# Iterate through unique lists and create separate CSV files\n",
        "for list_value in unique_lists:\n",
        "    list_df = df[df['list'] == list_value]\n",
        "    first_entry_name = list_df.iloc[0]['name']\n",
        "    first_entry_names.append(first_entry_name)\n",
        "    num_entries.append(len(list_df))\n",
        "\n",
        "print(\"First entry names and number of entries for each list:\")\n",
        "for list_value, name, num in zip(unique_lists, first_entry_names, num_entries):\n",
        "    print(f\"List {list_value}: {name} ({num} entries)\")\n",
        "\n",
        "df['Subtype'] = \"\"\n",
        "\n",
        "# Iterate over each row in the DataFrame to split 'Type' into 'Type' and 'Subtype'\n",
        "for index, row in df.iterrows():\n",
        "    type_line = row['Type']\n",
        "    if ' — ' in type_line:\n",
        "        type_, subtype = type_line.split(' — ', 1)\n",
        "        df.at[index, 'Type'] = type_.strip()\n",
        "        df.at[index, 'Subtype'] = subtype.strip()\n",
        "\n",
        "df_sorted = df.sort_values(by=['Type', 'Colour', 'Subtype', 'name'])\n",
        "df_sorted.to_csv('selected_cards_sorted.csv', index=False)\n",
        "\n",
        "# Iterate through unique lists and create separate CSV files\n",
        "for list_value in unique_lists:\n",
        "    list_df = df[df['list'] == list_value]\n",
        "    filename = f'List{list_value}_cards.csv'\n",
        "    list_df.to_csv(filename, index=False)\n",
        "\n",
        "print(\"DataFrame sorted and saved to 'selected_cards_sorted.csv'.\")"
      ]
    },
    {
      "cell_type": "markdown",
      "metadata": {
        "id": "aP7ZXosH1ecr"
      },
      "source": [
        "# Set list IDs to name\n",
        "\n",
        "Set list id to name by checking first entry in every List"
      ]
    },
    {
      "cell_type": "code",
      "execution_count": null,
      "metadata": {
        "colab": {
          "base_uri": "https://localhost:8080/",
          "height": 156
        },
        "id": "SqkTO1VDThmS",
        "outputId": "a22cfaca-c991-4e8e-9d71-2bca4ee9a0a0"
      },
      "outputs": [
        {
          "output_type": "stream",
          "name": "stdout",
          "text": [
            "Created CSV file containing all lists: all_lists_cards.csv\n",
            "Created TXT file containing all lists: all_lists_cards.txt\n",
            "Removed 'list' column, renamed 'List1_cards.csv' to 'Henzie Toolbox Torre_cards.csv', and created 'Henzie Toolbox Torre_cards.txt'\n",
            "Removed 'list' column, renamed 'List2_cards.csv' to 'Venser, Corpse Puppet_cards.csv', and created 'Venser, Corpse Puppet_cards.txt'\n",
            "Removed 'list' column, renamed 'List3_cards.csv' to 'Jolene, the Plunder Queen_cards.csv', and created 'Jolene, the Plunder Queen_cards.txt'\n",
            "Removed 'list' column, renamed 'List9_cards.csv' to 'Cards in Boxes_cards.csv', and created 'Cards in Boxes_cards.txt'\n",
            "Removed 'list' column, renamed 'List10_cards.csv' to 'Trade Binder_cards.csv', and created 'Trade Binder_cards.txt'\n",
            "Removed 'list' column, renamed 'List11_cards.csv' to 'Zedruu, the Greathearted_cards.csv', and created 'Zedruu, the Greathearted_cards.txt'\n"
          ]
        },
        {
          "output_type": "display_data",
          "data": {
            "text/plain": [
              "<IPython.core.display.Javascript object>"
            ],
            "application/javascript": [
              "\n",
              "    async function download(id, filename, size) {\n",
              "      if (!google.colab.kernel.accessAllowed) {\n",
              "        return;\n",
              "      }\n",
              "      const div = document.createElement('div');\n",
              "      const label = document.createElement('label');\n",
              "      label.textContent = `Downloading \"${filename}\": `;\n",
              "      div.appendChild(label);\n",
              "      const progress = document.createElement('progress');\n",
              "      progress.max = size;\n",
              "      div.appendChild(progress);\n",
              "      document.body.appendChild(div);\n",
              "\n",
              "      const buffers = [];\n",
              "      let downloaded = 0;\n",
              "\n",
              "      const channel = await google.colab.kernel.comms.open(id);\n",
              "      // Send a message to notify the kernel that we're ready.\n",
              "      channel.send({})\n",
              "\n",
              "      for await (const message of channel.messages) {\n",
              "        // Send a message to notify the kernel that we're ready.\n",
              "        channel.send({})\n",
              "        if (message.buffers) {\n",
              "          for (const buffer of message.buffers) {\n",
              "            buffers.push(buffer);\n",
              "            downloaded += buffer.byteLength;\n",
              "            progress.value = downloaded;\n",
              "          }\n",
              "        }\n",
              "      }\n",
              "      const blob = new Blob(buffers, {type: 'application/binary'});\n",
              "      const a = document.createElement('a');\n",
              "      a.href = window.URL.createObjectURL(blob);\n",
              "      a.download = filename;\n",
              "      div.appendChild(a);\n",
              "      a.click();\n",
              "      div.remove();\n",
              "    }\n",
              "  "
            ]
          },
          "metadata": {}
        },
        {
          "output_type": "display_data",
          "data": {
            "text/plain": [
              "<IPython.core.display.Javascript object>"
            ],
            "application/javascript": [
              "download(\"download_c3efcb1f-0331-44ad-8f2c-556ee2ad2e6e\", \"card_files.zip\", 238345)"
            ]
          },
          "metadata": {}
        }
      ],
      "source": [
        "from IPython.display import display, HTML\n",
        "df = pd.read_csv('selected_cards_sorted.csv')\n",
        "\n",
        "list_id_to_name = {\n",
        "    1: \"Henzie Toolbox Torre\",\n",
        "    2: \"Venser, Corpse Puppet\",\n",
        "    3: \"Jolene, the Plunder Queen\",\n",
        "    9: \"Cards in Boxes\",\n",
        "    10: \"Trade Binder\",\n",
        "    11: \"Zedruu, the Greathearted\"\n",
        "}\n",
        "\n",
        "zip_filename = \"card_files.zip\"\n",
        "with zipfile.ZipFile(zip_filename, \"w\") as zipf:\n",
        "    all_lists = []\n",
        "    for list_value in unique_lists:\n",
        "        list_df = df[df['list'] == list_value]\n",
        "        all_lists.append(list_df)\n",
        "\n",
        "    all_lists_df = pd.concat(all_lists)\n",
        "    all_lists_filename = 'all_lists_cards.csv'\n",
        "    all_lists_df.to_csv(all_lists_filename, index=False)\n",
        "    zipf.write(all_lists_filename)\n",
        "    os.remove(all_lists_filename)\n",
        "    print(f\"Created CSV file containing all lists: {all_lists_filename}\")\n",
        "\n",
        "    # Convert the DataFrame containing all lists to a .txt file with cards separated by newlines\n",
        "    all_cards_txt = all_lists_df['name'].str.cat(sep='\\n')\n",
        "    all_cards_txt_filename = 'all_lists_cards.txt'\n",
        "    with open(all_cards_txt_filename, 'w') as txt_file:\n",
        "        txt_file.write(all_cards_txt)\n",
        "\n",
        "    zipf.write(all_cards_txt_filename)\n",
        "    os.remove(all_cards_txt_filename)\n",
        "    print(f\"Created TXT file containing all lists: {all_cards_txt_filename}\")\n",
        "\n",
        "    # Iterate through the mapping and process the CSV files\n",
        "    for list_id, name in list_id_to_name.items():\n",
        "        old_filename = f'List{list_id}_cards.csv'\n",
        "        new_csv_filename = f'{name}_cards.csv'\n",
        "        new_txt_filename = f'{name}_cards.txt'\n",
        "\n",
        "        # Check if the old filename exists\n",
        "        if os.path.exists(old_filename):\n",
        "            df = pd.read_csv(old_filename)\n",
        "            df = df.drop(columns=['list'])\n",
        "            df.to_csv(new_csv_filename, index=False)\n",
        "            cards_txt = df['name'].str.cat(sep='\\n')\n",
        "            with open(new_txt_filename, 'w') as txt_file:\n",
        "                txt_file.write(cards_txt)\n",
        "\n",
        "            print(f\"Removed 'list' column, renamed '{old_filename}' to '{new_csv_filename}', and created '{new_txt_filename}'\")\n",
        "            zipf.write(new_csv_filename)\n",
        "            zipf.write(new_txt_filename)\n",
        "\n",
        "            os.remove(new_csv_filename)\n",
        "            os.remove(new_txt_filename)\n",
        "        else:\n",
        "            print(f\"File '{old_filename}' not found.\")\n",
        "\n",
        "files.download(zip_filename)"
      ]
    }
  ],
  "metadata": {
    "colab": {
      "provenance": []
    },
    "kernelspec": {
      "display_name": "Python 3",
      "name": "python3"
    },
    "language_info": {
      "name": "python"
    }
  },
  "nbformat": 4,
  "nbformat_minor": 0
}
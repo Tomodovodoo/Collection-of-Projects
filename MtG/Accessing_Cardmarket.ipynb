{
  "cells": [
    {
      "cell_type": "code",
      "execution_count": null,
      "metadata": {
        "colab": {
          "background_save": true,
          "base_uri": "https://localhost:8080/"
        },
        "id": "SyqZkQctDqXB",
        "outputId": "fb734f41-ce88-4bb8-ba15-ba873eb9ec37"
      },
      "outputs": [
        {
          "name": "stdout",
          "output_type": "stream",
          "text": [
            "<Response [403]>\n"
          ]
        }
      ],
      "source": [
        "\n",
        "import requests\n",
        "from bs4 import BeautifulSoup\n",
        "\n",
        "# URL of the webpage to scrape\n",
        "url = 'https://www.cardmarket.com/en/Magic'\n",
        "\n",
        "# Define headers\n",
        "headers = {\n",
        "    'User-Agent': 'Mozilla/5.0 (Windows NT 10.0; Win64; x64) AppleWebKit/537.36 (KHTML, like Gecko) Chrome/58.0.3029.110 Safari/537.3'\n",
        "}\n",
        "\n",
        "# Send a GET request to the webpage with headers\n",
        "response = requests.get(url, headers=headers)\n",
        "\n",
        "print(response)\n",
        "# Parse HTML content\n",
        "soup = BeautifulSoup(response.content, 'html.parser')\n",
        "\n",
        "# Example: Extract all card titles\n",
        "card_titles = soup.find_all('div', class_='productRowHeader')\n",
        "for card_title in card_titles:\n",
        "    print(card_title.text.strip())"
      ]
    }
  ],
  "metadata": {
    "colab": {
      "provenance": []
    },
    "kernelspec": {
      "display_name": "Python 3",
      "name": "python3"
    },
    "language_info": {
      "name": "python"
    }
  },
  "nbformat": 4,
  "nbformat_minor": 0
}